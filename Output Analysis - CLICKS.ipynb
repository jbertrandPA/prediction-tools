{
 "cells": [
  {
   "cell_type": "code",
   "execution_count": 1,
   "metadata": {},
   "outputs": [],
   "source": [
    "from DataAnalysis import *"
   ]
  },
  {
   "cell_type": "markdown",
   "metadata": {},
   "source": [
    "# Global reading"
   ]
  },
  {
   "cell_type": "code",
   "execution_count": 3,
   "metadata": {},
   "outputs": [
    {
     "name": "stdout",
     "output_type": "stream",
     "text": [
      "    nb_clicks  Hour       Count\n",
      "0           0  8549  3721971914\n",
      "1           1  8549     5435738\n",
      "2           2  8549      180733\n",
      "3           3  8549       17379\n",
      "4           4  8493        5212\n",
      "5           5  7745        1782\n",
      "6           6  6372        1012\n",
      "7           7  4038         431\n",
      "8           8  3170         315\n",
      "9           9  2186         219\n",
      "10         10  1588         153\n",
      "11         11   833          76\n",
      "12         12   691          59\n",
      "13         13   396          27\n",
      "14         14   486          35\n",
      "15         15   247          19\n",
      "16         16   193          14\n",
      "17         17   133          12\n",
      "18         18   112           9\n",
      "19         19    80           7\n",
      "20         20    67           5\n",
      "21         21    16           1\n",
      "22         24     9           1\n",
      "23         25    32           2\n",
      "24         26    17           1\n",
      "25         27    17           1\n",
      "26         28     7           1\n",
      "27         81    18           1\n",
      "28         83    15           1\n",
      "29        145     9           1\n",
      "30        840    13           1\n"
     ]
    }
   ],
   "source": [
    "filtered_days=[]#'2018-06-07', '2018-06-06']\n",
    "aggregator =\"\"\n",
    "label_table = \"nb_clicks\"\n",
    "\n",
    "filename = get_filename(label_table, aggregator)\n",
    "df_clicks = read_and_clean(filename, label_table,aggregator, filtered_days, False)\n",
    "df_grouped= group_by_label_sum(df_clicks, [\"nb_clicks\"])\n",
    "print(df_grouped)"
   ]
  },
  {
   "cell_type": "markdown",
   "metadata": {},
   "source": [
    "## Analysis of the outliers "
   ]
  },
  {
   "cell_type": "code",
   "execution_count": null,
   "metadata": {},
   "outputs": [],
   "source": [
    "threshold = 20\n",
    "day = '2018-06-01'"
   ]
  },
  {
   "cell_type": "code",
   "execution_count": null,
   "metadata": {},
   "outputs": [],
   "source": []
  },
  {
   "cell_type": "code",
   "execution_count": 11,
   "metadata": {},
   "outputs": [
    {
     "data": {
      "text/plain": [
       "array([  3,   2,   1,   0,   6,   5,   4,   8,  10,   7,  11,   9,  12,\n",
       "        13,  17,  19,  28,  15,  24,  14,  16,  18,  21,  20, 145,  83,\n",
       "        26, 840,  25,  27,  81])"
      ]
     },
     "execution_count": 11,
     "metadata": {},
     "output_type": "execute_result"
    }
   ],
   "source": [
    "df_clicks[\"nb_clicks\"].unique()"
   ]
  },
  {
   "cell_type": "code",
   "execution_count": 42,
   "metadata": {},
   "outputs": [],
   "source": [
    "df_grouped= group_by_label_sum(df_clicks, [\"nb_clicks\", \"cbs_media_source_id\"], \"nb_clicks\")"
   ]
  },
  {
   "cell_type": "code",
   "execution_count": 43,
   "metadata": {},
   "outputs": [
    {
     "name": "stdout",
     "output_type": "stream",
     "text": [
      "      nb_clicks  cbs_media_source_id  Hour      Count         Ratio\n",
      "0             0                   65  8549  315710567      0.000000\n",
      "1             0                   92  8549   81462620      0.000000\n",
      "2             0                   96  7552      73415      0.000000\n",
      "3             0                  100  8549  110662626      0.000000\n",
      "4             0                  101  8549   54287236      0.000000\n",
      "5             0                  129    18          2      0.000000\n",
      "6             0                  131  8549  867445018      0.000000\n",
      "7             0                  132  8549   30268914      0.000000\n",
      "8             0                  158    13          2      0.000000\n",
      "9             0                  162  8549  114830990      0.000000\n",
      "10            0                  163   140         45      0.000000\n",
      "11            0                  164  8549  479777949      0.000000\n",
      "12            0                  165  8549  106508371      0.000000\n",
      "13            0                  172  8549   10070902      0.000000\n",
      "14            0                  175  8549  189279186      0.000000\n",
      "15            0                  176  8549  175955197      0.000000\n",
      "16            0                  180  8549  259176493      0.000000\n",
      "17            0                  185  8549    3371598      0.000000\n",
      "18            0                  186  8549   19199543      0.000000\n",
      "19            0                  189    49          9      0.000000\n",
      "20            0                  193  8549  341990125      0.000000\n",
      "21            0                  225  8549     139785      0.000000\n",
      "22            0                  231  8549   66025855      0.000000\n",
      "23            0                  250   865        132      0.000000\n",
      "24            0                  252  8549    4241789      0.000000\n",
      "25            0                  253  8107     382708      0.000000\n",
      "26            0                  256  8549   67710168      0.000000\n",
      "27            0                  258  8549    3025345      0.000000\n",
      "28            0                  260  8549   14592269      0.000000\n",
      "29            0                  263  8549    8390015      0.000000\n",
      "...         ...                  ...   ...        ...           ...\n",
      "1020         17                  193    18          1   1700.000000\n",
      "1021         17                  252    12          1   1700.000000\n",
      "1022         17                  421    20          1   1700.000000\n",
      "1023         17                  804     3          1   1700.000000\n",
      "1024         18                  100    25          2    900.000000\n",
      "1025         18                  131    23          1   1800.000000\n",
      "1026         18                  165     0          1   1800.000000\n",
      "1027         18                  175    25          2    900.000000\n",
      "1028         18                  185    11          1   1800.000000\n",
      "1029         18                  301    19          1   1800.000000\n",
      "1030         18                  310     9          1   1800.000000\n",
      "1031         19                  100    19          2    950.000000\n",
      "1032         19                  180    11          1   1900.000000\n",
      "1033         19                  193    24          2    950.000000\n",
      "1034         19                  263    20          1   1900.000000\n",
      "1035         19                  334     6          1   1900.000000\n",
      "1036         20                  100    15          1   2000.000000\n",
      "1037         20                  131    21          1   2000.000000\n",
      "1038         20                  175    31          3    666.666667\n",
      "1039         21                  100    16          1   2100.000000\n",
      "1040         24                  165     9          1   2400.000000\n",
      "1041         25                  164    13          1   2500.000000\n",
      "1042         25                  175    19          1   2500.000000\n",
      "1043         26                  100    17          1   2600.000000\n",
      "1044         27                  269    17          1   2700.000000\n",
      "1045         28                   92     7          1   2800.000000\n",
      "1046         81                  100    18          1   8100.000000\n",
      "1047         83                  172    15          1   8300.000000\n",
      "1048        145                  256     9          1  14500.000000\n",
      "1049        840                  256    13          1  84000.000000\n",
      "\n",
      "[1050 rows x 5 columns]\n"
     ]
    }
   ],
   "source": [
    "print(df_grouped)"
   ]
  },
  {
   "cell_type": "code",
   "execution_count": 22,
   "metadata": {},
   "outputs": [
    {
     "data": {
      "text/plain": [
       "[<matplotlib.lines.Line2D at 0x1107fa828>]"
      ]
     },
     "execution_count": 22,
     "metadata": {},
     "output_type": "execute_result"
    },
    {
     "data": {
      "image/png": "[encoded data removed]",
      "text/plain": [
       "<matplotlib.figure.Figure at 0x11037f5f8>"
      ]
     },
     "metadata": {},
     "output_type": "display_data"
    }
   ],
   "source": [
    "plt.figure(figsize=(15, 10))\n",
    "#plt.title(title, size=20)\n",
    "plt.plot(df_grouped[\"nb_clicks\"][1:6], df_grouped[\"Count\"][1:6], 'b')"
   ]
  },
  {
   "cell_type": "code",
   "execution_count": null,
   "metadata": {},
   "outputs": [],
   "source": []
  },
  {
   "cell_type": "code",
   "execution_count": null,
   "metadata": {},
   "outputs": [],
   "source": []
  },
  {
   "cell_type": "code",
   "execution_count": null,
   "metadata": {},
   "outputs": [],
   "source": [
    "filtered_days=[]#'2018-06-07', '2018-06-06']\n",
    "aggregator =\"cbs_media_source_id\"\n",
    "label_table = \"nb_clicks\"\n",
    "\n",
    "filename = get_filename(label_table, aggregator)\n",
    "df_clicks = read_and_clean3(filename, label_table,aggregator, filtered_days, False)"
   ]
  }
 ],
 "metadata": {
  "kernelspec": {
   "display_name": "Python 3",
   "language": "python",
   "name": "python3"
  },
  "language_info": {
   "codemirror_mode": {
    "name": "ipython",
    "version": 3
   },
   "file_extension": ".py",
   "mimetype": "text/x-python",
   "name": "python",
   "nbconvert_exporter": "python",
   "pygments_lexer": "ipython3",
   "version": "3.6.4"
  }
 },
 "nbformat": 4,
 "nbformat_minor": 2
}

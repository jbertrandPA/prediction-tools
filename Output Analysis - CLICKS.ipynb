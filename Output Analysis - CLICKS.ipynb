{
 "cells": [
  {
   "cell_type": "code",
   "execution_count": 1,
   "metadata": {},
   "outputs": [],
   "source": [
    "from QueryWriter import *"
   ]
  },
  {
   "cell_type": "markdown",
   "metadata": {},
   "source": [
    "# Global reading"
   ]
  },
  {
   "cell_type": "code",
   "execution_count": 2,
   "metadata": {},
   "outputs": [
    {
     "name": "stdout",
     "output_type": "stream",
     "text": [
      "hive -e \"select day,hour, sum(A.total) as total, label_nbclicks \n",
      " from (select day,hour,1 as total, label_nbclicks\n",
      " from cbsdata.bid_request_imp_clicks \n",
      " where day < current_date  ) as A \n",
      " group by label_nbclicks, day,hour;\">labelnbclicks_day_hour_alldays.txt\n"
     ]
    }
   ],
   "source": [
    "dimensions = [\"day\", \"hour\"]\n",
    "nb_days = -1 \n",
    "table_name = \"clicks\"\n",
    "compute_query(dimensions,nb_days, table_name, with_label_number=True)"
   ]
  },
  {
   "cell_type": "code",
   "execution_count": 3,
   "metadata": {},
   "outputs": [
    {
     "name": "stdout",
     "output_type": "stream",
     "text": [
      "    Output   hour       Count\n",
      "0        0  17381  7670862136\n",
      "1        1  17381    11098991\n",
      "2        2  17381      319848\n",
      "3        3  17381       34890\n",
      "4        4  17281       10206\n",
      "5        5  15566        3600\n",
      "6        6  12862        2063\n",
      "7        7   8875         963\n",
      "8        8   6669         654\n",
      "9        9   4492         447\n",
      "10      10   3552         331\n",
      "11      11   1674         145\n",
      "12      12   1255         107\n",
      "13      13    796          59\n",
      "14      14    813          62\n",
      "15      15    457          38\n",
      "16      16    380          30\n",
      "17      17    226          18\n",
      "18      18    188          23\n",
      "19      19     95           9\n",
      "20      20    100           9\n",
      "21      21     16           1\n",
      "22      23     19           1\n",
      "23      24      9           1\n",
      "24      25     32           2\n",
      "25      26     17           1\n",
      "26      27     17           1\n",
      "27      28      7           1\n",
      "28      81     18           1\n",
      "29      83     15           1\n",
      "30     145      9           1\n",
      "31     840     13           1\n"
     ]
    }
   ],
   "source": [
    "filtered_days=[]#'2018-06-07', '2018-06-06']\n",
    "aggregator =\"\"\n",
    "\n",
    "filename = get_file_path(dimensions, nb_days, table_name, with_label_number = True)\n",
    "df_clicks = read_and_clean(filename,dimensions, [\"Count\"], ascending = False)\n",
    "df_grouped= group_by_label_sum(df_clicks, [\"Output\"])\n",
    "print(df_grouped)"
   ]
  },
  {
   "cell_type": "markdown",
   "metadata": {},
   "source": [
    "## Analysis of the outliers "
   ]
  },
  {
   "cell_type": "code",
   "execution_count": 4,
   "metadata": {
    "scrolled": true
   },
   "outputs": [
    {
     "data": {
      "text/html": [
       "<div>\n",
       "<style scoped>\n",
       "    .dataframe tbody tr th:only-of-type {\n",
       "        vertical-align: middle;\n",
       "    }\n",
       "\n",
       "    .dataframe tbody tr th {\n",
       "        vertical-align: top;\n",
       "    }\n",
       "\n",
       "    .dataframe thead th {\n",
       "        text-align: right;\n",
       "    }\n",
       "</style>\n",
       "<table border=\"1\" class=\"dataframe\">\n",
       "  <thead>\n",
       "    <tr style=\"text-align: right;\">\n",
       "      <th></th>\n",
       "      <th>day</th>\n",
       "      <th>hour</th>\n",
       "      <th>Count</th>\n",
       "      <th>Output</th>\n",
       "    </tr>\n",
       "  </thead>\n",
       "  <tbody>\n",
       "    <tr>\n",
       "      <th>11754</th>\n",
       "      <td>2018-07-09</td>\n",
       "      <td>19</td>\n",
       "      <td>1</td>\n",
       "      <td>23</td>\n",
       "    </tr>\n",
       "    <tr>\n",
       "      <th>7857</th>\n",
       "      <td>2018-06-08</td>\n",
       "      <td>13</td>\n",
       "      <td>1</td>\n",
       "      <td>25</td>\n",
       "    </tr>\n",
       "    <tr>\n",
       "      <th>5653</th>\n",
       "      <td>2018-06-03</td>\n",
       "      <td>19</td>\n",
       "      <td>1</td>\n",
       "      <td>25</td>\n",
       "    </tr>\n",
       "    <tr>\n",
       "      <th>6023</th>\n",
       "      <td>2018-06-07</td>\n",
       "      <td>17</td>\n",
       "      <td>1</td>\n",
       "      <td>27</td>\n",
       "    </tr>\n",
       "    <tr>\n",
       "      <th>11083</th>\n",
       "      <td>2018-06-08</td>\n",
       "      <td>18</td>\n",
       "      <td>1</td>\n",
       "      <td>81</td>\n",
       "    </tr>\n",
       "    <tr>\n",
       "      <th>8819</th>\n",
       "      <td>2018-06-03</td>\n",
       "      <td>13</td>\n",
       "      <td>1</td>\n",
       "      <td>840</td>\n",
       "    </tr>\n",
       "  </tbody>\n",
       "</table>\n",
       "</div>"
      ],
      "text/plain": [
       "              day  hour  Count  Output\n",
       "11754  2018-07-09    19      1      23\n",
       "7857   2018-06-08    13      1      25\n",
       "5653   2018-06-03    19      1      25\n",
       "6023   2018-06-07    17      1      27\n",
       "11083  2018-06-08    18      1      81\n",
       "8819   2018-06-03    13      1     840"
      ]
     },
     "execution_count": 4,
     "metadata": {},
     "output_type": "execute_result"
    }
   ],
   "source": [
    "threshold = 20\n",
    "day = '2018-06-01'\n",
    "df_clicks_filtered = df_clicks[df_clicks[\"day\"]>day]\n",
    "df_clicks_filtered[df_clicks_filtered[\"Output\"]>threshold].sort_values(by=\"Output\", ascending=True)"
   ]
  },
  {
   "cell_type": "markdown",
   "metadata": {},
   "source": [
    "# With the retailer id"
   ]
  },
  {
   "cell_type": "code",
   "execution_count": 5,
   "metadata": {},
   "outputs": [
    {
     "name": "stdout",
     "output_type": "stream",
     "text": [
      "hive -e \"select day,hour,cbs_media_source_id, sum(A.total) as total, label_nbclicks \n",
      " from (select day,hour,cbs_media_source_id,1 as total, label_nbclicks\n",
      " from cbsdata.bid_request_imp_clicks \n",
      " where day < current_date  ) as A \n",
      " group by label_nbclicks, day,hour,cbs_media_source_id;\">labelnbclicks_day_hour_cbs_media_source_id_alldays.txt\n"
     ]
    }
   ],
   "source": [
    "dimensions = [\"day\", \"hour\", \"cbs_media_source_id\"]\n",
    "nb_days = -1 \n",
    "table_name = \"clicks\"\n",
    "compute_query(dimensions,nb_days, table_name, with_label_number=True)"
   ]
  },
  {
   "cell_type": "code",
   "execution_count": 6,
   "metadata": {},
   "outputs": [
    {
     "name": "stdout",
     "output_type": "stream",
     "text": [
      "    Output     hour  cbs_media_source_id       Count\n",
      "0        0  2695615             85422953  7670862136\n",
      "1        1  1407511             38807503    11098991\n",
      "2        2   552827             12720044      319848\n",
      "3        3   219720              4166364       34890\n",
      "4        4    95741              1876592       10206\n",
      "5        5    40614               712319        3600\n",
      "6        6    23537               446787        2063\n",
      "7        7    11954               208367         963\n",
      "8        8     8188               143454         654\n",
      "9        9     5170                86849         447\n",
      "10      10     4115                60285         331\n",
      "11      11     1824                28142         145\n",
      "12      12     1324                21055         107\n",
      "13      13      809                11373          59\n",
      "14      14      828                11805          62\n",
      "15      15      457                 7236          38\n",
      "16      16      380                 5850          30\n",
      "17      17      226                 3544          18\n",
      "18      18      188                 2526          23\n",
      "19      19       95                 1634           9\n",
      "20      20      100                 1295           9\n",
      "21      21       16                  100           1\n",
      "22      23       19                  256           1\n",
      "23      24        9                  165           1\n",
      "24      25       32                  339           2\n",
      "25      26       17                  100           1\n",
      "26      27       17                  269           1\n",
      "27      28        7                   92           1\n",
      "28      81       18                  100           1\n",
      "29      83       15                  172           1\n",
      "30     145        9                  256           1\n",
      "31     840       13                  256           1\n"
     ]
    }
   ],
   "source": [
    "filtered_days=[]#'2018-06-07', '2018-06-06']\n",
    "aggregator =\"\"\n",
    "\n",
    "filename = get_file_path(dimensions, nb_days, table_name, with_label_number = True)\n",
    "df_clicks = read_and_clean(filename,dimensions, [\"Count\"], ascending = False)\n",
    "df_grouped= group_by_label_sum(df_clicks, [\"Output\"])\n",
    "print(df_grouped)"
   ]
  },
  {
   "cell_type": "code",
   "execution_count": 7,
   "metadata": {},
   "outputs": [
    {
     "data": {
      "text/html": [
       "<div>\n",
       "<style scoped>\n",
       "    .dataframe tbody tr th:only-of-type {\n",
       "        vertical-align: middle;\n",
       "    }\n",
       "\n",
       "    .dataframe tbody tr th {\n",
       "        vertical-align: top;\n",
       "    }\n",
       "\n",
       "    .dataframe thead th {\n",
       "        text-align: right;\n",
       "    }\n",
       "</style>\n",
       "<table border=\"1\" class=\"dataframe\">\n",
       "  <thead>\n",
       "    <tr style=\"text-align: right;\">\n",
       "      <th></th>\n",
       "      <th>day</th>\n",
       "      <th>hour</th>\n",
       "      <th>cbs_media_source_id</th>\n",
       "      <th>Count</th>\n",
       "      <th>Output</th>\n",
       "    </tr>\n",
       "  </thead>\n",
       "  <tbody>\n",
       "    <tr>\n",
       "      <th>399107</th>\n",
       "      <td>2018-07-09</td>\n",
       "      <td>19</td>\n",
       "      <td>256</td>\n",
       "      <td>1</td>\n",
       "      <td>23</td>\n",
       "    </tr>\n",
       "    <tr>\n",
       "      <th>177607</th>\n",
       "      <td>2018-06-03</td>\n",
       "      <td>19</td>\n",
       "      <td>175</td>\n",
       "      <td>1</td>\n",
       "      <td>25</td>\n",
       "    </tr>\n",
       "    <tr>\n",
       "      <th>414399</th>\n",
       "      <td>2018-06-08</td>\n",
       "      <td>13</td>\n",
       "      <td>164</td>\n",
       "      <td>1</td>\n",
       "      <td>25</td>\n",
       "    </tr>\n",
       "    <tr>\n",
       "      <th>132403</th>\n",
       "      <td>2018-06-07</td>\n",
       "      <td>17</td>\n",
       "      <td>269</td>\n",
       "      <td>1</td>\n",
       "      <td>27</td>\n",
       "    </tr>\n",
       "    <tr>\n",
       "      <th>207371</th>\n",
       "      <td>2018-06-08</td>\n",
       "      <td>18</td>\n",
       "      <td>100</td>\n",
       "      <td>1</td>\n",
       "      <td>81</td>\n",
       "    </tr>\n",
       "    <tr>\n",
       "      <th>174724</th>\n",
       "      <td>2018-06-03</td>\n",
       "      <td>13</td>\n",
       "      <td>256</td>\n",
       "      <td>1</td>\n",
       "      <td>840</td>\n",
       "    </tr>\n",
       "  </tbody>\n",
       "</table>\n",
       "</div>"
      ],
      "text/plain": [
       "               day  hour  cbs_media_source_id  Count  Output\n",
       "399107  2018-07-09    19                  256      1      23\n",
       "177607  2018-06-03    19                  175      1      25\n",
       "414399  2018-06-08    13                  164      1      25\n",
       "132403  2018-06-07    17                  269      1      27\n",
       "207371  2018-06-08    18                  100      1      81\n",
       "174724  2018-06-03    13                  256      1     840"
      ]
     },
     "execution_count": 7,
     "metadata": {},
     "output_type": "execute_result"
    }
   ],
   "source": [
    "threshold = 20\n",
    "day = '2018-06-01'\n",
    "df_clicks_filtered = df_clicks[df_clicks[\"day\"]>day]\n",
    "df_clicks_filtered[df_clicks_filtered[\"Output\"]>threshold].sort_values(by=\"Output\", ascending=True)"
   ]
  },
  {
   "cell_type": "code",
   "execution_count": null,
   "metadata": {},
   "outputs": [],
   "source": []
  }
 ],
 "metadata": {
  "kernelspec": {
   "display_name": "Python 3",
   "language": "python",
   "name": "python3"
  },
  "language_info": {
   "codemirror_mode": {
    "name": "ipython",
    "version": 3
   },
   "file_extension": ".py",
   "mimetype": "text/x-python",
   "name": "python",
   "nbconvert_exporter": "python",
   "pygments_lexer": "ipython3",
   "version": "3.6.4"
  }
 },
 "nbformat": 4,
 "nbformat_minor": 2
}

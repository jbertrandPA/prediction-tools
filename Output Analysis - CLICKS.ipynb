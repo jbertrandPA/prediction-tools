{
 "cells": [
  {
   "cell_type": "code",
   "execution_count": 1,
   "metadata": {},
   "outputs": [],
   "source": [
    "from QueryWriter import *"
   ]
  },
  {
   "cell_type": "markdown",
   "metadata": {},
   "source": [
    "# Global reading"
   ]
  },
  {
   "cell_type": "code",
   "execution_count": 2,
   "metadata": {},
   "outputs": [
    {
     "name": "stdout",
     "output_type": "stream",
     "text": [
      "hive -e \"select day,hour, sum(A.total) as total, label_nbclicks \n",
      " from (select day,hour,1 as total, label_nbclicks\n",
      " from cbsdata.bid_request_imp_clicks \n",
      " where day < current_date  ) as A \n",
      " group by label_nbclicks, day,hour;\">labelnbclicks_day_hour_alldays.txt\n"
     ]
    }
   ],
   "source": [
    "dimensions = [\"day\", \"hour\"]\n",
    "nb_days = -1 \n",
    "table_name = \"clicks\"\n",
    "compute_query(dimensions,nb_days, table_name, with_label_number=True)"
   ]
  },
  {
   "cell_type": "code",
   "execution_count": 7,
   "metadata": {},
   "outputs": [
    {
     "name": "stdout",
     "output_type": "stream",
     "text": [
      "    Output   hour       Count\n",
      "0        0  14465  6417350967\n",
      "1        1  14465     9363257\n",
      "2        2  14465      276990\n",
      "3        3  14465       29644\n",
      "4        4  14385        8653\n",
      "5        5  13064        3058\n",
      "6        6  10799        1749\n",
      "7        7   7293         794\n",
      "8        8   5489         546\n",
      "9        9   3981         391\n",
      "10      10   3146         290\n",
      "11      11   1456         131\n",
      "12      12   1139          97\n",
      "13      13    714          50\n",
      "14      14    738          57\n",
      "15      15    382          30\n",
      "16      16    364          29\n",
      "17      17    190          16\n",
      "18      18    155          12\n",
      "19      19     95           9\n",
      "20      20    100           9\n",
      "21      21     16           1\n",
      "22      24      9           1\n",
      "23      25     32           2\n",
      "24      26     17           1\n",
      "25      27     17           1\n",
      "26      28      7           1\n",
      "27      81     18           1\n",
      "28      83     15           1\n",
      "29     145      9           1\n",
      "30     840     13           1\n"
     ]
    }
   ],
   "source": [
    "filtered_days=[]#'2018-06-07', '2018-06-06']\n",
    "aggregator =\"\"\n",
    "\n",
    "filename = get_file_path(dimensions, nb_days, table_name, with_label_number = True)\n",
    "df_clicks = read_and_clean(filename,dimensions, [\"Count\"], ascending = False)\n",
    "df_grouped= group_by_label_sum(df_clicks, [\"Output\"])\n",
    "print(df_grouped)"
   ]
  },
  {
   "cell_type": "markdown",
   "metadata": {},
   "source": [
    "## Analysis of the outliers "
   ]
  },
  {
   "cell_type": "code",
   "execution_count": 10,
   "metadata": {},
   "outputs": [
    {
     "data": {
      "text/html": [
       "<div>\n",
       "<style scoped>\n",
       "    .dataframe tbody tr th:only-of-type {\n",
       "        vertical-align: middle;\n",
       "    }\n",
       "\n",
       "    .dataframe tbody tr th {\n",
       "        vertical-align: top;\n",
       "    }\n",
       "\n",
       "    .dataframe thead th {\n",
       "        text-align: right;\n",
       "    }\n",
       "</style>\n",
       "<table border=\"1\" class=\"dataframe\">\n",
       "  <thead>\n",
       "    <tr style=\"text-align: right;\">\n",
       "      <th></th>\n",
       "      <th>day</th>\n",
       "      <th>hour</th>\n",
       "      <th>Count</th>\n",
       "      <th>Output</th>\n",
       "    </tr>\n",
       "  </thead>\n",
       "  <tbody>\n",
       "    <tr>\n",
       "      <th>5513</th>\n",
       "      <td>2018-06-03</td>\n",
       "      <td>19</td>\n",
       "      <td>1</td>\n",
       "      <td>25</td>\n",
       "    </tr>\n",
       "    <tr>\n",
       "      <th>7471</th>\n",
       "      <td>2018-06-08</td>\n",
       "      <td>13</td>\n",
       "      <td>1</td>\n",
       "      <td>25</td>\n",
       "    </tr>\n",
       "    <tr>\n",
       "      <th>5856</th>\n",
       "      <td>2018-06-07</td>\n",
       "      <td>17</td>\n",
       "      <td>1</td>\n",
       "      <td>27</td>\n",
       "    </tr>\n",
       "    <tr>\n",
       "      <th>9409</th>\n",
       "      <td>2018-06-08</td>\n",
       "      <td>18</td>\n",
       "      <td>1</td>\n",
       "      <td>81</td>\n",
       "    </tr>\n",
       "    <tr>\n",
       "      <th>8200</th>\n",
       "      <td>2018-06-03</td>\n",
       "      <td>13</td>\n",
       "      <td>1</td>\n",
       "      <td>840</td>\n",
       "    </tr>\n",
       "  </tbody>\n",
       "</table>\n",
       "</div>"
      ],
      "text/plain": [
       "             day  hour  Count  Output\n",
       "5513  2018-06-03    19      1      25\n",
       "7471  2018-06-08    13      1      25\n",
       "5856  2018-06-07    17      1      27\n",
       "9409  2018-06-08    18      1      81\n",
       "8200  2018-06-03    13      1     840"
      ]
     },
     "execution_count": 10,
     "metadata": {},
     "output_type": "execute_result"
    }
   ],
   "source": [
    "threshold = 20\n",
    "day = '2018-06-01'\n",
    "df_clicks_filtered = df_clicks[df_clicks[\"day\"]>day]\n",
    "df_clicks_filtered[df_clicks_filtered[\"Output\"]>threshold].sort_values(by=\"Output\", ascending=True)"
   ]
  },
  {
   "cell_type": "code",
   "execution_count": null,
   "metadata": {},
   "outputs": [],
   "source": []
  }
 ],
 "metadata": {
  "kernelspec": {
   "display_name": "Python 3",
   "language": "python",
   "name": "python3"
  },
  "language_info": {
   "codemirror_mode": {
    "name": "ipython",
    "version": 3
   },
   "file_extension": ".py",
   "mimetype": "text/x-python",
   "name": "python",
   "nbconvert_exporter": "python",
   "pygments_lexer": "ipython3",
   "version": "3.6.4"
  }
 },
 "nbformat": 4,
 "nbformat_minor": 2
}
